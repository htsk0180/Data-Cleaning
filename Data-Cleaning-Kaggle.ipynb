{
 "cells": [
  {
   "cell_type": "markdown",
   "id": "18e140de",
   "metadata": {},
   "source": [
    "# Data Cleaning - Veri Temizleme"
   ]
  },
  {
   "cell_type": "markdown",
   "id": "ffbf592b",
   "metadata": {},
   "source": [
    "**1-) Handling Missing Values ( Eksik Değerleri İşleme )**"
   ]
  },
  {
   "cell_type": "markdown",
   "id": "5a076fbe",
   "metadata": {},
   "source": [
    "Veri temizleme veri biliminin önemli bir parçasıdır. Ancak çok sinir bozucu olabilir. Bozuk metinler, eksik değerler, düzensiz tarih formatları, tutarsız veriler, gibi sorunlara çözüm arayacağız."
   ]
  },
  {
   "cell_type": "markdown",
   "id": "33632f9b",
   "metadata": {},
   "source": [
    "Bu derste dataset olarak amerikan futbolu oyunlarında meydana gelen olayların veri kümesini kullanacağız."
   ]
  },
  {
   "cell_type": "code",
   "execution_count": null,
   "id": "99a92cd3",
   "metadata": {},
   "outputs": [],
   "source": [
    "import pandas as pd\n",
    "import numpy as np\n",
    "\n",
    "# csv formatındaki verinin okunması.\n",
    "nfl_data = pd.read_csv(\"NFL Play by Play 2009-2018 (v5).csv\")\n",
    "\n",
    "# tekrarlanabilirlik.\n",
    "np.random.seed(0) "
   ]
  },
  {
   "cell_type": "code",
   "execution_count": 5,
   "id": "38daa373",
   "metadata": {},
   "outputs": [
    {
     "data": {
      "text/html": [
       "<div>\n",
       "<style scoped>\n",
       "    .dataframe tbody tr th:only-of-type {\n",
       "        vertical-align: middle;\n",
       "    }\n",
       "\n",
       "    .dataframe tbody tr th {\n",
       "        vertical-align: top;\n",
       "    }\n",
       "\n",
       "    .dataframe thead th {\n",
       "        text-align: right;\n",
       "    }\n",
       "</style>\n",
       "<table border=\"1\" class=\"dataframe\">\n",
       "  <thead>\n",
       "    <tr style=\"text-align: right;\">\n",
       "      <th></th>\n",
       "      <th>play_id</th>\n",
       "      <th>game_id</th>\n",
       "      <th>home_team</th>\n",
       "      <th>away_team</th>\n",
       "      <th>posteam</th>\n",
       "      <th>posteam_type</th>\n",
       "      <th>defteam</th>\n",
       "      <th>side_of_field</th>\n",
       "      <th>yardline_100</th>\n",
       "      <th>game_date</th>\n",
       "      <th>...</th>\n",
       "      <th>penalty_player_id</th>\n",
       "      <th>penalty_player_name</th>\n",
       "      <th>penalty_yards</th>\n",
       "      <th>replay_or_challenge</th>\n",
       "      <th>replay_or_challenge_result</th>\n",
       "      <th>penalty_type</th>\n",
       "      <th>defensive_two_point_attempt</th>\n",
       "      <th>defensive_two_point_conv</th>\n",
       "      <th>defensive_extra_point_attempt</th>\n",
       "      <th>defensive_extra_point_conv</th>\n",
       "    </tr>\n",
       "  </thead>\n",
       "  <tbody>\n",
       "    <tr>\n",
       "      <th>0</th>\n",
       "      <td>46</td>\n",
       "      <td>2009091000</td>\n",
       "      <td>PIT</td>\n",
       "      <td>TEN</td>\n",
       "      <td>PIT</td>\n",
       "      <td>home</td>\n",
       "      <td>TEN</td>\n",
       "      <td>TEN</td>\n",
       "      <td>30.0</td>\n",
       "      <td>2009-09-10</td>\n",
       "      <td>...</td>\n",
       "      <td>NaN</td>\n",
       "      <td>NaN</td>\n",
       "      <td>NaN</td>\n",
       "      <td>0</td>\n",
       "      <td>NaN</td>\n",
       "      <td>NaN</td>\n",
       "      <td>0.0</td>\n",
       "      <td>0.0</td>\n",
       "      <td>0.0</td>\n",
       "      <td>0.0</td>\n",
       "    </tr>\n",
       "    <tr>\n",
       "      <th>1</th>\n",
       "      <td>68</td>\n",
       "      <td>2009091000</td>\n",
       "      <td>PIT</td>\n",
       "      <td>TEN</td>\n",
       "      <td>PIT</td>\n",
       "      <td>home</td>\n",
       "      <td>TEN</td>\n",
       "      <td>PIT</td>\n",
       "      <td>58.0</td>\n",
       "      <td>2009-09-10</td>\n",
       "      <td>...</td>\n",
       "      <td>NaN</td>\n",
       "      <td>NaN</td>\n",
       "      <td>NaN</td>\n",
       "      <td>0</td>\n",
       "      <td>NaN</td>\n",
       "      <td>NaN</td>\n",
       "      <td>0.0</td>\n",
       "      <td>0.0</td>\n",
       "      <td>0.0</td>\n",
       "      <td>0.0</td>\n",
       "    </tr>\n",
       "    <tr>\n",
       "      <th>2</th>\n",
       "      <td>92</td>\n",
       "      <td>2009091000</td>\n",
       "      <td>PIT</td>\n",
       "      <td>TEN</td>\n",
       "      <td>PIT</td>\n",
       "      <td>home</td>\n",
       "      <td>TEN</td>\n",
       "      <td>PIT</td>\n",
       "      <td>53.0</td>\n",
       "      <td>2009-09-10</td>\n",
       "      <td>...</td>\n",
       "      <td>NaN</td>\n",
       "      <td>NaN</td>\n",
       "      <td>NaN</td>\n",
       "      <td>0</td>\n",
       "      <td>NaN</td>\n",
       "      <td>NaN</td>\n",
       "      <td>0.0</td>\n",
       "      <td>0.0</td>\n",
       "      <td>0.0</td>\n",
       "      <td>0.0</td>\n",
       "    </tr>\n",
       "    <tr>\n",
       "      <th>3</th>\n",
       "      <td>113</td>\n",
       "      <td>2009091000</td>\n",
       "      <td>PIT</td>\n",
       "      <td>TEN</td>\n",
       "      <td>PIT</td>\n",
       "      <td>home</td>\n",
       "      <td>TEN</td>\n",
       "      <td>PIT</td>\n",
       "      <td>56.0</td>\n",
       "      <td>2009-09-10</td>\n",
       "      <td>...</td>\n",
       "      <td>NaN</td>\n",
       "      <td>NaN</td>\n",
       "      <td>NaN</td>\n",
       "      <td>0</td>\n",
       "      <td>NaN</td>\n",
       "      <td>NaN</td>\n",
       "      <td>0.0</td>\n",
       "      <td>0.0</td>\n",
       "      <td>0.0</td>\n",
       "      <td>0.0</td>\n",
       "    </tr>\n",
       "    <tr>\n",
       "      <th>4</th>\n",
       "      <td>139</td>\n",
       "      <td>2009091000</td>\n",
       "      <td>PIT</td>\n",
       "      <td>TEN</td>\n",
       "      <td>PIT</td>\n",
       "      <td>home</td>\n",
       "      <td>TEN</td>\n",
       "      <td>PIT</td>\n",
       "      <td>56.0</td>\n",
       "      <td>2009-09-10</td>\n",
       "      <td>...</td>\n",
       "      <td>NaN</td>\n",
       "      <td>NaN</td>\n",
       "      <td>NaN</td>\n",
       "      <td>0</td>\n",
       "      <td>NaN</td>\n",
       "      <td>NaN</td>\n",
       "      <td>0.0</td>\n",
       "      <td>0.0</td>\n",
       "      <td>0.0</td>\n",
       "      <td>0.0</td>\n",
       "    </tr>\n",
       "  </tbody>\n",
       "</table>\n",
       "<p>5 rows × 255 columns</p>\n",
       "</div>"
      ],
      "text/plain": [
       "   play_id     game_id home_team away_team posteam posteam_type defteam  \\\n",
       "0       46  2009091000       PIT       TEN     PIT         home     TEN   \n",
       "1       68  2009091000       PIT       TEN     PIT         home     TEN   \n",
       "2       92  2009091000       PIT       TEN     PIT         home     TEN   \n",
       "3      113  2009091000       PIT       TEN     PIT         home     TEN   \n",
       "4      139  2009091000       PIT       TEN     PIT         home     TEN   \n",
       "\n",
       "  side_of_field  yardline_100   game_date  ...  penalty_player_id  \\\n",
       "0           TEN          30.0  2009-09-10  ...                NaN   \n",
       "1           PIT          58.0  2009-09-10  ...                NaN   \n",
       "2           PIT          53.0  2009-09-10  ...                NaN   \n",
       "3           PIT          56.0  2009-09-10  ...                NaN   \n",
       "4           PIT          56.0  2009-09-10  ...                NaN   \n",
       "\n",
       "   penalty_player_name  penalty_yards replay_or_challenge  \\\n",
       "0                  NaN            NaN                   0   \n",
       "1                  NaN            NaN                   0   \n",
       "2                  NaN            NaN                   0   \n",
       "3                  NaN            NaN                   0   \n",
       "4                  NaN            NaN                   0   \n",
       "\n",
       "   replay_or_challenge_result  penalty_type  defensive_two_point_attempt  \\\n",
       "0                         NaN           NaN                          0.0   \n",
       "1                         NaN           NaN                          0.0   \n",
       "2                         NaN           NaN                          0.0   \n",
       "3                         NaN           NaN                          0.0   \n",
       "4                         NaN           NaN                          0.0   \n",
       "\n",
       "   defensive_two_point_conv  defensive_extra_point_attempt  \\\n",
       "0                       0.0                            0.0   \n",
       "1                       0.0                            0.0   \n",
       "2                       0.0                            0.0   \n",
       "3                       0.0                            0.0   \n",
       "4                       0.0                            0.0   \n",
       "\n",
       "   defensive_extra_point_conv  \n",
       "0                         0.0  \n",
       "1                         0.0  \n",
       "2                         0.0  \n",
       "3                         0.0  \n",
       "4                         0.0  \n",
       "\n",
       "[5 rows x 255 columns]"
      ]
     },
     "execution_count": 5,
     "metadata": {},
     "output_type": "execute_result"
    }
   ],
   "source": [
    "# dataset yüklediğinde verilere genel olarak bakmak verisetimiz hakkında ön bilgi almak açısından iyi olabilir.\n",
    "\n",
    "nfl_data.head() # ilk 5 satırı getirir.\n",
    "\n",
    "# zaten direkt olarak NaN ( Not a Number - sayı değil) veri tiplerini görebiliyoruz."
   ]
  },
  {
   "cell_type": "markdown",
   "id": "1ca051cf",
   "metadata": {},
   "source": [
    "**Kaç tane eksik veri noktamız var ?**"
   ]
  },
  {
   "cell_type": "markdown",
   "id": "0f3aed76",
   "metadata": {},
   "source": [
    "Peki artık eksik değerlerimiz olduğunu biliyoruz. Bakalım her sütunda kaç tane eksik değer var."
   ]
  },
  {
   "cell_type": "code",
   "execution_count": 6,
   "id": "6fcb3a39",
   "metadata": {},
   "outputs": [
    {
     "data": {
      "text/plain": [
       "play_id              0\n",
       "game_id              0\n",
       "home_team            0\n",
       "away_team            0\n",
       "posteam          13242\n",
       "posteam_type     12879\n",
       "defteam          12879\n",
       "side_of_field      600\n",
       "yardline_100     13070\n",
       "game_date            0\n",
       "dtype: int64"
      ]
     },
     "execution_count": 6,
     "metadata": {},
     "output_type": "execute_result"
    }
   ],
   "source": [
    "# sütun başına eksik veri noktalarının sayısını \n",
    "eksik_deger_sayisi = nfl_data.isnull().sum()\n",
    "\n",
    "# ilk on sütundaki eksik noktaların sayısı\n",
    "eksik_deger_sayisi[0:10]"
   ]
  },
  {
   "cell_type": "markdown",
   "id": "9bdb2d0f",
   "metadata": {},
   "source": [
    "Eksik veriler bir hayli fazla. Yüzde olarak hesaplayalım"
   ]
  },
  {
   "cell_type": "code",
   "execution_count": 8,
   "id": "0fed689d",
   "metadata": {},
   "outputs": [
    {
     "name": "stdout",
     "output_type": "stream",
     "text": [
      "38.50391490571942\n"
     ]
    }
   ],
   "source": [
    "# kaç tane eksik değerimiz var?\n",
    "toplam_hucre = np.product(nfl_data.shape)\n",
    "toplam_eksik_deger = eksik_deger_sayisi.sum()\n",
    "\n",
    "# eksik olan verilerin yüzdesi\n",
    "eksik_deger_yuzdelik = (toplam_eksik_deger/toplam_hucre) * 100\n",
    "print(eksik_deger_yuzdelik)"
   ]
  },
  {
   "cell_type": "markdown",
   "id": "3f9846e8",
   "metadata": {},
   "source": [
    "**Bu noktada** neler yapabiliriz. Verilerimizi inceledik. Ve %38'lik bir kısmının eksik olduğunu gördük. Peki bu dataset neden böyle.Bu eksik veriler bizim analizlerimizi nasıl etkiler. ( **data intution** ) Bu durumu anlamaya çalışmak için kendimize sorabileceğimiz en önemli sorular şunlardır: "
   ]
  },
  {
   "cell_type": "markdown",
   "id": "431653a0",
   "metadata": {},
   "source": [
    "*1-) Bu değerler kaydedilmediği için mi yoksa mevcut olmadığı için mi eksik?*"
   ]
  },
  {
   "cell_type": "markdown",
   "id": "b7473f2d",
   "metadata": {},
   "source": [
    "* Eğer bir değer mevcut olmadı için eksikse ( örneğin çocuğu olmayan bir kişinin en büyük çocuğunun boyu gibi ) o zaman bu gibi verileri NaN olarak saklamak isteyebiliriz.\n",
    "* Ancak kaydedilmediği için eksik bir değer mevcutsa o sütun ve satırdaki diğer verilere dayanarak ne olabileceğini tahmin etmeye çalışabiliriz. Buna **imputation** denir. "
   ]
  },
  {
   "cell_type": "markdown",
   "id": "aec3f7fa",
   "metadata": {},
   "source": [
    "**Drop Missing Values - Eksik Değerleri Silme:**"
   ]
  },
  {
   "cell_type": "markdown",
   "id": "03f2a6e0",
   "metadata": {},
   "source": [
    "Eğer çok önemli bir projede çalışmıyorsanız ve işiniz acele ise uygulayabileceğimiz seçeneklerden bir tanesi eksik değerleri içeren satır ve sutunları kaldırmaktır. ( Önemli projeler için önerilmez ) Eğer bu işlemi yapmak istersek pandas'ın **dropna()** metodu bu iş içindir."
   ]
  },
  {
   "cell_type": "code",
   "execution_count": 20,
   "id": "102dea0c",
   "metadata": {},
   "outputs": [
    {
     "data": {
      "text/html": [
       "<div>\n",
       "<style scoped>\n",
       "    .dataframe tbody tr th:only-of-type {\n",
       "        vertical-align: middle;\n",
       "    }\n",
       "\n",
       "    .dataframe tbody tr th {\n",
       "        vertical-align: top;\n",
       "    }\n",
       "\n",
       "    .dataframe thead th {\n",
       "        text-align: right;\n",
       "    }\n",
       "</style>\n",
       "<table border=\"1\" class=\"dataframe\">\n",
       "  <thead>\n",
       "    <tr style=\"text-align: right;\">\n",
       "      <th></th>\n",
       "      <th>play_id</th>\n",
       "      <th>game_id</th>\n",
       "      <th>home_team</th>\n",
       "      <th>away_team</th>\n",
       "      <th>posteam</th>\n",
       "      <th>posteam_type</th>\n",
       "      <th>defteam</th>\n",
       "      <th>side_of_field</th>\n",
       "      <th>yardline_100</th>\n",
       "      <th>game_date</th>\n",
       "      <th>...</th>\n",
       "      <th>penalty_player_id</th>\n",
       "      <th>penalty_player_name</th>\n",
       "      <th>penalty_yards</th>\n",
       "      <th>replay_or_challenge</th>\n",
       "      <th>replay_or_challenge_result</th>\n",
       "      <th>penalty_type</th>\n",
       "      <th>defensive_two_point_attempt</th>\n",
       "      <th>defensive_two_point_conv</th>\n",
       "      <th>defensive_extra_point_attempt</th>\n",
       "      <th>defensive_extra_point_conv</th>\n",
       "    </tr>\n",
       "  </thead>\n",
       "  <tbody>\n",
       "  </tbody>\n",
       "</table>\n",
       "<p>0 rows × 255 columns</p>\n",
       "</div>"
      ],
      "text/plain": [
       "Empty DataFrame\n",
       "Columns: [play_id, game_id, home_team, away_team, posteam, posteam_type, defteam, side_of_field, yardline_100, game_date, quarter_seconds_remaining, half_seconds_remaining, game_seconds_remaining, game_half, quarter_end, drive, sp, qtr, down, goal_to_go, time, yrdln, ydstogo, ydsnet, desc, play_type, yards_gained, shotgun, no_huddle, qb_dropback, qb_kneel, qb_spike, qb_scramble, pass_length, pass_location, air_yards, yards_after_catch, run_location, run_gap, field_goal_result, kick_distance, extra_point_result, two_point_conv_result, home_timeouts_remaining, away_timeouts_remaining, timeout, timeout_team, td_team, posteam_timeouts_remaining, defteam_timeouts_remaining, total_home_score, total_away_score, posteam_score, defteam_score, score_differential, posteam_score_post, defteam_score_post, score_differential_post, no_score_prob, opp_fg_prob, opp_safety_prob, opp_td_prob, fg_prob, safety_prob, td_prob, extra_point_prob, two_point_conversion_prob, ep, epa, total_home_epa, total_away_epa, total_home_rush_epa, total_away_rush_epa, total_home_pass_epa, total_away_pass_epa, air_epa, yac_epa, comp_air_epa, comp_yac_epa, total_home_comp_air_epa, total_away_comp_air_epa, total_home_comp_yac_epa, total_away_comp_yac_epa, total_home_raw_air_epa, total_away_raw_air_epa, total_home_raw_yac_epa, total_away_raw_yac_epa, wp, def_wp, home_wp, away_wp, wpa, home_wp_post, away_wp_post, total_home_rush_wpa, total_away_rush_wpa, total_home_pass_wpa, total_away_pass_wpa, air_wpa, yac_wpa, ...]\n",
       "Index: []\n",
       "\n",
       "[0 rows x 255 columns]"
      ]
     },
     "execution_count": 20,
     "metadata": {},
     "output_type": "execute_result"
    }
   ],
   "source": [
    "# eksik değer içeren tüm satırları kaldır.\n",
    "nfl_data.dropna()"
   ]
  },
  {
   "cell_type": "markdown",
   "id": "be5857de",
   "metadata": {},
   "source": [
    "Yukarıdaki çıktıdan da anlayacağımız üzere tüm verilerimiz silindi. Bunun nedeni verisetimizin her satırında en az bir eksik değere sahip olmamız. Bunun yerine en az bir eksik değeri olan tüm sutünları kaldırmayı deneyelim."
   ]
  },
  {
   "cell_type": "code",
   "execution_count": 21,
   "id": "c9b10057",
   "metadata": {},
   "outputs": [
    {
     "data": {
      "text/html": [
       "<div>\n",
       "<style scoped>\n",
       "    .dataframe tbody tr th:only-of-type {\n",
       "        vertical-align: middle;\n",
       "    }\n",
       "\n",
       "    .dataframe tbody tr th {\n",
       "        vertical-align: top;\n",
       "    }\n",
       "\n",
       "    .dataframe thead th {\n",
       "        text-align: right;\n",
       "    }\n",
       "</style>\n",
       "<table border=\"1\" class=\"dataframe\">\n",
       "  <thead>\n",
       "    <tr style=\"text-align: right;\">\n",
       "      <th></th>\n",
       "      <th>play_id</th>\n",
       "      <th>game_id</th>\n",
       "      <th>home_team</th>\n",
       "      <th>away_team</th>\n",
       "      <th>game_date</th>\n",
       "      <th>game_half</th>\n",
       "      <th>quarter_end</th>\n",
       "      <th>drive</th>\n",
       "      <th>sp</th>\n",
       "      <th>qtr</th>\n",
       "      <th>...</th>\n",
       "      <th>total_away_pass_wpa</th>\n",
       "      <th>total_home_comp_air_wpa</th>\n",
       "      <th>total_away_comp_air_wpa</th>\n",
       "      <th>total_home_comp_yac_wpa</th>\n",
       "      <th>total_away_comp_yac_wpa</th>\n",
       "      <th>total_home_raw_air_wpa</th>\n",
       "      <th>total_away_raw_air_wpa</th>\n",
       "      <th>total_home_raw_yac_wpa</th>\n",
       "      <th>total_away_raw_yac_wpa</th>\n",
       "      <th>replay_or_challenge</th>\n",
       "    </tr>\n",
       "  </thead>\n",
       "  <tbody>\n",
       "    <tr>\n",
       "      <th>0</th>\n",
       "      <td>46</td>\n",
       "      <td>2009091000</td>\n",
       "      <td>PIT</td>\n",
       "      <td>TEN</td>\n",
       "      <td>2009-09-10</td>\n",
       "      <td>Half1</td>\n",
       "      <td>0</td>\n",
       "      <td>1</td>\n",
       "      <td>0</td>\n",
       "      <td>1</td>\n",
       "      <td>...</td>\n",
       "      <td>0.000000</td>\n",
       "      <td>0.000000</td>\n",
       "      <td>0.000000</td>\n",
       "      <td>0.000000</td>\n",
       "      <td>0.000000</td>\n",
       "      <td>0.000000</td>\n",
       "      <td>0.000000</td>\n",
       "      <td>0.000000</td>\n",
       "      <td>0.000000</td>\n",
       "      <td>0</td>\n",
       "    </tr>\n",
       "    <tr>\n",
       "      <th>1</th>\n",
       "      <td>68</td>\n",
       "      <td>2009091000</td>\n",
       "      <td>PIT</td>\n",
       "      <td>TEN</td>\n",
       "      <td>2009-09-10</td>\n",
       "      <td>Half1</td>\n",
       "      <td>0</td>\n",
       "      <td>1</td>\n",
       "      <td>0</td>\n",
       "      <td>1</td>\n",
       "      <td>...</td>\n",
       "      <td>-0.004655</td>\n",
       "      <td>-0.028383</td>\n",
       "      <td>0.028383</td>\n",
       "      <td>0.033038</td>\n",
       "      <td>-0.033038</td>\n",
       "      <td>-0.028383</td>\n",
       "      <td>0.028383</td>\n",
       "      <td>0.033038</td>\n",
       "      <td>-0.033038</td>\n",
       "      <td>0</td>\n",
       "    </tr>\n",
       "    <tr>\n",
       "      <th>2</th>\n",
       "      <td>92</td>\n",
       "      <td>2009091000</td>\n",
       "      <td>PIT</td>\n",
       "      <td>TEN</td>\n",
       "      <td>2009-09-10</td>\n",
       "      <td>Half1</td>\n",
       "      <td>0</td>\n",
       "      <td>1</td>\n",
       "      <td>0</td>\n",
       "      <td>1</td>\n",
       "      <td>...</td>\n",
       "      <td>-0.004655</td>\n",
       "      <td>-0.028383</td>\n",
       "      <td>0.028383</td>\n",
       "      <td>0.033038</td>\n",
       "      <td>-0.033038</td>\n",
       "      <td>-0.028383</td>\n",
       "      <td>0.028383</td>\n",
       "      <td>0.033038</td>\n",
       "      <td>-0.033038</td>\n",
       "      <td>0</td>\n",
       "    </tr>\n",
       "    <tr>\n",
       "      <th>3</th>\n",
       "      <td>113</td>\n",
       "      <td>2009091000</td>\n",
       "      <td>PIT</td>\n",
       "      <td>TEN</td>\n",
       "      <td>2009-09-10</td>\n",
       "      <td>Half1</td>\n",
       "      <td>0</td>\n",
       "      <td>1</td>\n",
       "      <td>0</td>\n",
       "      <td>1</td>\n",
       "      <td>...</td>\n",
       "      <td>0.044921</td>\n",
       "      <td>-0.028383</td>\n",
       "      <td>0.028383</td>\n",
       "      <td>0.033038</td>\n",
       "      <td>-0.033038</td>\n",
       "      <td>0.081542</td>\n",
       "      <td>-0.081542</td>\n",
       "      <td>-0.126463</td>\n",
       "      <td>0.126463</td>\n",
       "      <td>0</td>\n",
       "    </tr>\n",
       "    <tr>\n",
       "      <th>4</th>\n",
       "      <td>139</td>\n",
       "      <td>2009091000</td>\n",
       "      <td>PIT</td>\n",
       "      <td>TEN</td>\n",
       "      <td>2009-09-10</td>\n",
       "      <td>Half1</td>\n",
       "      <td>0</td>\n",
       "      <td>1</td>\n",
       "      <td>0</td>\n",
       "      <td>1</td>\n",
       "      <td>...</td>\n",
       "      <td>0.044921</td>\n",
       "      <td>-0.028383</td>\n",
       "      <td>0.028383</td>\n",
       "      <td>0.033038</td>\n",
       "      <td>-0.033038</td>\n",
       "      <td>0.081542</td>\n",
       "      <td>-0.081542</td>\n",
       "      <td>-0.126463</td>\n",
       "      <td>0.126463</td>\n",
       "      <td>0</td>\n",
       "    </tr>\n",
       "  </tbody>\n",
       "</table>\n",
       "<p>5 rows × 50 columns</p>\n",
       "</div>"
      ],
      "text/plain": [
       "   play_id     game_id home_team away_team   game_date game_half  quarter_end  \\\n",
       "0       46  2009091000       PIT       TEN  2009-09-10     Half1            0   \n",
       "1       68  2009091000       PIT       TEN  2009-09-10     Half1            0   \n",
       "2       92  2009091000       PIT       TEN  2009-09-10     Half1            0   \n",
       "3      113  2009091000       PIT       TEN  2009-09-10     Half1            0   \n",
       "4      139  2009091000       PIT       TEN  2009-09-10     Half1            0   \n",
       "\n",
       "   drive  sp  qtr  ...  total_away_pass_wpa  total_home_comp_air_wpa  \\\n",
       "0      1   0    1  ...             0.000000                 0.000000   \n",
       "1      1   0    1  ...            -0.004655                -0.028383   \n",
       "2      1   0    1  ...            -0.004655                -0.028383   \n",
       "3      1   0    1  ...             0.044921                -0.028383   \n",
       "4      1   0    1  ...             0.044921                -0.028383   \n",
       "\n",
       "   total_away_comp_air_wpa  total_home_comp_yac_wpa  total_away_comp_yac_wpa  \\\n",
       "0                 0.000000                 0.000000                 0.000000   \n",
       "1                 0.028383                 0.033038                -0.033038   \n",
       "2                 0.028383                 0.033038                -0.033038   \n",
       "3                 0.028383                 0.033038                -0.033038   \n",
       "4                 0.028383                 0.033038                -0.033038   \n",
       "\n",
       "   total_home_raw_air_wpa  total_away_raw_air_wpa  total_home_raw_yac_wpa  \\\n",
       "0                0.000000                0.000000                0.000000   \n",
       "1               -0.028383                0.028383                0.033038   \n",
       "2               -0.028383                0.028383                0.033038   \n",
       "3                0.081542               -0.081542               -0.126463   \n",
       "4                0.081542               -0.081542               -0.126463   \n",
       "\n",
       "   total_away_raw_yac_wpa  replay_or_challenge  \n",
       "0                0.000000                    0  \n",
       "1               -0.033038                    0  \n",
       "2               -0.033038                    0  \n",
       "3                0.126463                    0  \n",
       "4                0.126463                    0  \n",
       "\n",
       "[5 rows x 50 columns]"
      ]
     },
     "execution_count": 21,
     "metadata": {},
     "output_type": "execute_result"
    }
   ],
   "source": [
    "# en az bir eksik değer içeren sutünları kaldır.\n",
    "columns_with_na_dropped = nfl_data.dropna(axis=1)\n",
    "columns_with_na_dropped.head()"
   ]
  },
  {
   "cell_type": "code",
   "execution_count": 22,
   "id": "aa68ca7a",
   "metadata": {},
   "outputs": [
    {
     "name": "stdout",
     "output_type": "stream",
     "text": [
      "Orjinal veri kümesindeki sutünlar: 255 \n",
      "\n",
      "NaN'ların silinmiş hali ile sutünlar: 50\n"
     ]
    }
   ],
   "source": [
    "# ne kadar veri kaybettik?\n",
    "print(\"Orjinal veri kümesindeki sutünlar: %d \\n\" % nfl_data.shape[1])\n",
    "print(\"NaN'ların silinmiş hali ile sutünlar: %d\" % columns_with_na_dropped.shape[1])"
   ]
  },
  {
   "cell_type": "markdown",
   "id": "ce497e2b",
   "metadata": {},
   "source": [
    "Oldukça fazla veri kaybettik. Ancak tüm NaN'lardan kurtulduk."
   ]
  },
  {
   "cell_type": "markdown",
   "id": "b361efe2",
   "metadata": {},
   "source": [
    "**Eksik değerleri otomatik olarak doldurma:**\n",
    "* Başka bir yöntem ise eksik değerlerin yerini doldurmaktır. Örneğimizin daha iyi çalışması için NFL datasetimizinden küçük bir batch alalım."
   ]
  },
  {
   "cell_type": "code",
   "execution_count": 26,
   "id": "c431f0c8",
   "metadata": {},
   "outputs": [
    {
     "data": {
      "text/html": [
       "<div>\n",
       "<style scoped>\n",
       "    .dataframe tbody tr th:only-of-type {\n",
       "        vertical-align: middle;\n",
       "    }\n",
       "\n",
       "    .dataframe tbody tr th {\n",
       "        vertical-align: top;\n",
       "    }\n",
       "\n",
       "    .dataframe thead th {\n",
       "        text-align: right;\n",
       "    }\n",
       "</style>\n",
       "<table border=\"1\" class=\"dataframe\">\n",
       "  <thead>\n",
       "    <tr style=\"text-align: right;\">\n",
       "      <th></th>\n",
       "      <th>penalty_player_id</th>\n",
       "      <th>penalty_player_name</th>\n",
       "      <th>penalty_yards</th>\n",
       "      <th>replay_or_challenge</th>\n",
       "      <th>replay_or_challenge_result</th>\n",
       "      <th>penalty_type</th>\n",
       "    </tr>\n",
       "  </thead>\n",
       "  <tbody>\n",
       "    <tr>\n",
       "      <th>0</th>\n",
       "      <td>NaN</td>\n",
       "      <td>NaN</td>\n",
       "      <td>NaN</td>\n",
       "      <td>0</td>\n",
       "      <td>NaN</td>\n",
       "      <td>NaN</td>\n",
       "    </tr>\n",
       "    <tr>\n",
       "      <th>1</th>\n",
       "      <td>NaN</td>\n",
       "      <td>NaN</td>\n",
       "      <td>NaN</td>\n",
       "      <td>0</td>\n",
       "      <td>NaN</td>\n",
       "      <td>NaN</td>\n",
       "    </tr>\n",
       "    <tr>\n",
       "      <th>2</th>\n",
       "      <td>NaN</td>\n",
       "      <td>NaN</td>\n",
       "      <td>NaN</td>\n",
       "      <td>0</td>\n",
       "      <td>NaN</td>\n",
       "      <td>NaN</td>\n",
       "    </tr>\n",
       "    <tr>\n",
       "      <th>3</th>\n",
       "      <td>NaN</td>\n",
       "      <td>NaN</td>\n",
       "      <td>NaN</td>\n",
       "      <td>0</td>\n",
       "      <td>NaN</td>\n",
       "      <td>NaN</td>\n",
       "    </tr>\n",
       "    <tr>\n",
       "      <th>4</th>\n",
       "      <td>NaN</td>\n",
       "      <td>NaN</td>\n",
       "      <td>NaN</td>\n",
       "      <td>0</td>\n",
       "      <td>NaN</td>\n",
       "      <td>NaN</td>\n",
       "    </tr>\n",
       "  </tbody>\n",
       "</table>\n",
       "</div>"
      ],
      "text/plain": [
       "  penalty_player_id penalty_player_name  penalty_yards  replay_or_challenge  \\\n",
       "0               NaN                 NaN            NaN                    0   \n",
       "1               NaN                 NaN            NaN                    0   \n",
       "2               NaN                 NaN            NaN                    0   \n",
       "3               NaN                 NaN            NaN                    0   \n",
       "4               NaN                 NaN            NaN                    0   \n",
       "\n",
       "  replay_or_challenge_result penalty_type  \n",
       "0                        NaN          NaN  \n",
       "1                        NaN          NaN  \n",
       "2                        NaN          NaN  \n",
       "3                        NaN          NaN  \n",
       "4                        NaN          NaN  "
      ]
     },
     "execution_count": 26,
     "metadata": {},
     "output_type": "execute_result"
    }
   ],
   "source": [
    "# datasetimizden küçük bir alt küme alalım.\n",
    "altkume_nfl_data = nfl_data.loc[:, 'penalty_player_id':'penalty_type'].head()\n",
    "altkume_nfl_data"
   ]
  },
  {
   "cell_type": "markdown",
   "id": "6c9151cd",
   "metadata": {},
   "source": [
    "1-) Eksik verilerimizi doldurmak için pandas'ın **fillna()** metodunu kullanabiliriz. Yapmamız gereken NaN değerleri yerine ne gelmesi gerektiğini belirtmektir."
   ]
  },
  {
   "cell_type": "code",
   "execution_count": 27,
   "id": "0ed6dbd4",
   "metadata": {},
   "outputs": [
    {
     "data": {
      "text/html": [
       "<div>\n",
       "<style scoped>\n",
       "    .dataframe tbody tr th:only-of-type {\n",
       "        vertical-align: middle;\n",
       "    }\n",
       "\n",
       "    .dataframe tbody tr th {\n",
       "        vertical-align: top;\n",
       "    }\n",
       "\n",
       "    .dataframe thead th {\n",
       "        text-align: right;\n",
       "    }\n",
       "</style>\n",
       "<table border=\"1\" class=\"dataframe\">\n",
       "  <thead>\n",
       "    <tr style=\"text-align: right;\">\n",
       "      <th></th>\n",
       "      <th>penalty_player_id</th>\n",
       "      <th>penalty_player_name</th>\n",
       "      <th>penalty_yards</th>\n",
       "      <th>replay_or_challenge</th>\n",
       "      <th>replay_or_challenge_result</th>\n",
       "      <th>penalty_type</th>\n",
       "    </tr>\n",
       "  </thead>\n",
       "  <tbody>\n",
       "    <tr>\n",
       "      <th>0</th>\n",
       "      <td>0</td>\n",
       "      <td>0</td>\n",
       "      <td>0.0</td>\n",
       "      <td>0</td>\n",
       "      <td>0</td>\n",
       "      <td>0</td>\n",
       "    </tr>\n",
       "    <tr>\n",
       "      <th>1</th>\n",
       "      <td>0</td>\n",
       "      <td>0</td>\n",
       "      <td>0.0</td>\n",
       "      <td>0</td>\n",
       "      <td>0</td>\n",
       "      <td>0</td>\n",
       "    </tr>\n",
       "    <tr>\n",
       "      <th>2</th>\n",
       "      <td>0</td>\n",
       "      <td>0</td>\n",
       "      <td>0.0</td>\n",
       "      <td>0</td>\n",
       "      <td>0</td>\n",
       "      <td>0</td>\n",
       "    </tr>\n",
       "    <tr>\n",
       "      <th>3</th>\n",
       "      <td>0</td>\n",
       "      <td>0</td>\n",
       "      <td>0.0</td>\n",
       "      <td>0</td>\n",
       "      <td>0</td>\n",
       "      <td>0</td>\n",
       "    </tr>\n",
       "    <tr>\n",
       "      <th>4</th>\n",
       "      <td>0</td>\n",
       "      <td>0</td>\n",
       "      <td>0.0</td>\n",
       "      <td>0</td>\n",
       "      <td>0</td>\n",
       "      <td>0</td>\n",
       "    </tr>\n",
       "  </tbody>\n",
       "</table>\n",
       "</div>"
      ],
      "text/plain": [
       "   penalty_player_id  penalty_player_name  penalty_yards  replay_or_challenge  \\\n",
       "0                  0                    0            0.0                    0   \n",
       "1                  0                    0            0.0                    0   \n",
       "2                  0                    0            0.0                    0   \n",
       "3                  0                    0            0.0                    0   \n",
       "4                  0                    0            0.0                    0   \n",
       "\n",
       "   replay_or_challenge_result  penalty_type  \n",
       "0                           0             0  \n",
       "1                           0             0  \n",
       "2                           0             0  \n",
       "3                           0             0  \n",
       "4                           0             0  "
      ]
     },
     "execution_count": 27,
     "metadata": {},
     "output_type": "execute_result"
    }
   ],
   "source": [
    "# NaN'lara 0 ata.\n",
    "altkume_nfl_data.fillna(0)"
   ]
  },
  {
   "cell_type": "markdown",
   "id": "b6f943fe",
   "metadata": {},
   "source": [
    "2-) Yada eksik değerlerin yerine aynı sutünda doğrudan peşinden gelen herhangi bir değer ile değiştireiliriz. "
   ]
  },
  {
   "cell_type": "code",
   "execution_count": 29,
   "id": "490a0961",
   "metadata": {},
   "outputs": [
    {
     "data": {
      "text/html": [
       "<div>\n",
       "<style scoped>\n",
       "    .dataframe tbody tr th:only-of-type {\n",
       "        vertical-align: middle;\n",
       "    }\n",
       "\n",
       "    .dataframe tbody tr th {\n",
       "        vertical-align: top;\n",
       "    }\n",
       "\n",
       "    .dataframe thead th {\n",
       "        text-align: right;\n",
       "    }\n",
       "</style>\n",
       "<table border=\"1\" class=\"dataframe\">\n",
       "  <thead>\n",
       "    <tr style=\"text-align: right;\">\n",
       "      <th></th>\n",
       "      <th>penalty_player_id</th>\n",
       "      <th>penalty_player_name</th>\n",
       "      <th>penalty_yards</th>\n",
       "      <th>replay_or_challenge</th>\n",
       "      <th>replay_or_challenge_result</th>\n",
       "      <th>penalty_type</th>\n",
       "    </tr>\n",
       "  </thead>\n",
       "  <tbody>\n",
       "    <tr>\n",
       "      <th>0</th>\n",
       "      <td>0.0</td>\n",
       "      <td>0.0</td>\n",
       "      <td>0.0</td>\n",
       "      <td>0</td>\n",
       "      <td>0.0</td>\n",
       "      <td>0.0</td>\n",
       "    </tr>\n",
       "    <tr>\n",
       "      <th>1</th>\n",
       "      <td>0.0</td>\n",
       "      <td>0.0</td>\n",
       "      <td>0.0</td>\n",
       "      <td>0</td>\n",
       "      <td>0.0</td>\n",
       "      <td>0.0</td>\n",
       "    </tr>\n",
       "    <tr>\n",
       "      <th>2</th>\n",
       "      <td>0.0</td>\n",
       "      <td>0.0</td>\n",
       "      <td>0.0</td>\n",
       "      <td>0</td>\n",
       "      <td>0.0</td>\n",
       "      <td>0.0</td>\n",
       "    </tr>\n",
       "    <tr>\n",
       "      <th>3</th>\n",
       "      <td>0.0</td>\n",
       "      <td>0.0</td>\n",
       "      <td>0.0</td>\n",
       "      <td>0</td>\n",
       "      <td>0.0</td>\n",
       "      <td>0.0</td>\n",
       "    </tr>\n",
       "    <tr>\n",
       "      <th>4</th>\n",
       "      <td>0.0</td>\n",
       "      <td>0.0</td>\n",
       "      <td>0.0</td>\n",
       "      <td>0</td>\n",
       "      <td>0.0</td>\n",
       "      <td>0.0</td>\n",
       "    </tr>\n",
       "  </tbody>\n",
       "</table>\n",
       "</div>"
      ],
      "text/plain": [
       "   penalty_player_id  penalty_player_name  penalty_yards  replay_or_challenge  \\\n",
       "0                0.0                  0.0            0.0                    0   \n",
       "1                0.0                  0.0            0.0                    0   \n",
       "2                0.0                  0.0            0.0                    0   \n",
       "3                0.0                  0.0            0.0                    0   \n",
       "4                0.0                  0.0            0.0                    0   \n",
       "\n",
       "   replay_or_challenge_result  penalty_type  \n",
       "0                         0.0           0.0  \n",
       "1                         0.0           0.0  \n",
       "2                         0.0           0.0  \n",
       "3                         0.0           0.0  \n",
       "4                         0.0           0.0  "
      ]
     },
     "execution_count": 29,
     "metadata": {},
     "output_type": "execute_result"
    }
   ],
   "source": [
    "# tüm na'ları doğrudan aynı sütunda ondan sonra gelen değerle değiştirin,\n",
    "# sonra kalan tüm na'ları 0 ile değiştirin\n",
    "altkume_nfl_data.fillna(method='bfill', axis=0).fillna(0)"
   ]
  },
  {
   "cell_type": "markdown",
   "id": "cf474fcf",
   "metadata": {},
   "source": [
    "**2-) Scaling and Normalization**"
   ]
  },
  {
   "cell_type": "markdown",
   "id": "13c22d19",
   "metadata": {},
   "source": [
    "İkinci bölümde sayısal değişkenleri yararlı özelliklere sahip olacak şekilde dönüştüreceğiz. Verileri nasıl ölçeklendireceğimize ve normalleştireceğimize (ve ikisi arasındaki farkın ne olduğuna) bakacağız."
   ]
  },
  {
   "cell_type": "code",
   "execution_count": 1,
   "id": "7ef02e8a",
   "metadata": {},
   "outputs": [],
   "source": [
    "# kütüphaneler.\n",
    "import pandas as pd\n",
    "import numpy as np\n",
    "from scipy import stats\n",
    "# min_max scaling\n",
    "from mlxtend.preprocessing import minmax_scaling\n",
    "# görselleştirme\n",
    "import seaborn as sns\n",
    "import matplotlib.pyplot as plt\n",
    "# tekrarlanabilirlik\n",
    "np.random.seed(0)"
   ]
  },
  {
   "cell_type": "markdown",
   "id": "eecfb305",
   "metadata": {},
   "source": [
    "**Ölçeklendirme ve Normalleştirme: Fark nedir?**"
   ]
  },
  {
   "cell_type": "markdown",
   "id": "7b70314a",
   "metadata": {},
   "source": [
    "**ölçeklendirmede**, verilerinizin aralığını değiştirirken\n",
    "**normalleştirmede**, verilerinizin dağıtım şeklini değiştiriyorsunuz."
   ]
  },
  {
   "cell_type": "markdown",
   "id": "d5fe47b5",
   "metadata": {},
   "source": [
    "**Scaling ( ölçeklendirme ):**"
   ]
  },
  {
   "cell_type": "markdown",
   "id": "a28f98d7",
   "metadata": {},
   "source": [
    "* Verilerinizi 0-100 veya 0-1 gibi belirli bir ölçeğe sığacak şekilde dönüştürdüğünüz anlamına gelir. Destek vektör makineleri (SVM) veya k-en yakın komşular (KNN) gibi veri noktalarının birbirinden ne kadar uzakta olduğuna ilişkin ölçümlere dayalı makine öğrenim yöntemleri kullanırken verileri ölçeklendirmek zorundayız."
   ]
  },
  {
   "cell_type": "markdown",
   "id": "e3a1fa10",
   "metadata": {},
   "source": [
    "* Değişkenlerimizi ölçeklendirmek, farklı değişkenleri eşit olarak karşılaştırmanıza yardımcı olur. Örneğin içerisinde hem Tl hemde dolar cinsinden veri bulunan datasetimizde 1 dolar = 13 tl ye denk gelmekte. Eğer scaling işlemi yapılmaz ise sistemimiz 1 doları 1 tl gibi algıyarak yanlış sonuçlar almamıza neden olabilir."
   ]
  },
  {
   "cell_type": "code",
   "execution_count": 3,
   "id": "f111d8e1",
   "metadata": {},
   "outputs": [
    {
     "data": {
      "image/png": "[encoded data removed]",
      "text/plain": [
       "<Figure size 1080x216 with 2 Axes>"
      ]
     },
     "metadata": {
      "needs_background": "light"
     },
     "output_type": "display_data"
    }
   ],
   "source": [
    "# rastgele 1000 veri noktası.\n",
    "original_data = np.random.exponential(size=1000)\n",
    "\n",
    "# verilerimizi 0-1 arasında ölçeklendirelim.\n",
    "scaled_data = minmax_scaling(original_data, columns=[0])\n",
    "\n",
    "# iki datayı karşılaştıralım.\n",
    "fig, ax = plt.subplots(1, 2, figsize=(15, 3))\n",
    "sns.histplot(original_data, ax=ax[0], kde=True, legend=False)\n",
    "ax[0].set_title(\"Original Data\")\n",
    "sns.histplot(scaled_data, ax=ax[1], kde=True, legend=False)\n",
    "ax[1].set_title(\"Ölçekli Data\")\n",
    "plt.show()"
   ]
  },
  {
   "cell_type": "markdown",
   "id": "65d81234",
   "metadata": {},
   "source": [
    "Verilerimizin şeklinin değişmediğine ancak orjinal data' da 0-8 arasında olan x ekseninin , ölçekli data da 0-1 arasında olduğunu hepimiz gözlemledik."
   ]
  },
  {
   "cell_type": "markdown",
   "id": "1d61c002",
   "metadata": {},
   "source": [
    "**Normalization ( Normalleştirme ):**"
   ]
  },
  {
   "cell_type": "markdown",
   "id": "b6d10451",
   "metadata": {},
   "source": [
    "Ölçeklendirme yalnızca verilerinizin aralığını değiştirir. Normalleşme daha radikal bir dönüşümdür. Normalleşmenin amacı gözlemlerinizi normal dağılım olarak tanımlanabilecek şekilde değiştirmektir.Normal dağılım: \"Çan eğrisi\" olarak da bilinir, kabaca eşit gözlemlerin ortalamanın üstüne ve altına düştüğü, ortalama ve ortancanın aynı olduğu ve ortalamaya daha yakın gözlemlerin olduğu belirli bir istatistiksel dağılımdır. Normal dağılım Gauss dağılımı olarak da bilinir."
   ]
  },
  {
   "cell_type": "markdown",
   "id": "322836a9",
   "metadata": {},
   "source": [
    "Makine öğrenim algoritmalarından LDA ve Gauss Naive Bayes verileri normalize olarak bekler. Burada normalleştirmek için kullandığımız yönteme **Box-Cox Transformation** denir."
   ]
  },
  {
   "cell_type": "code",
   "execution_count": 5,
   "id": "55b84e09",
   "metadata": {},
   "outputs": [
    {
     "data": {
      "image/png": "[encoded data removed]",
      "text/plain": [
       "<Figure size 1080x216 with 2 Axes>"
      ]
     },
     "metadata": {
      "needs_background": "light"
     },
     "output_type": "display_data"
    }
   ],
   "source": [
    "# boxcox yöntemi ile üssel verilerimizi normalleştirelim.\n",
    "normalized_data = stats.boxcox(original_data)\n",
    "\n",
    "# before/after yapalım.\n",
    "fig, ax=plt.subplots(1, 2, figsize=(15, 3))\n",
    "sns.histplot(original_data, ax=ax[0], kde=True, legend=False)\n",
    "ax[0].set_title(\"Original Data\")\n",
    "sns.histplot(normalized_data[0], ax=ax[1], kde=True, legend=False)\n",
    "ax[1].set_title(\"Normalize Data\")\n",
    "plt.show()"
   ]
  },
  {
   "cell_type": "markdown",
   "id": "fabf6f8a",
   "metadata": {},
   "source": [
    "**3-) Parsing Dates - Tarih Formatları İle Çalışma.**"
   ]
  },
  {
   "cell_type": "markdown",
   "id": "bc2498ae",
   "metadata": {},
   "source": [
    "Herzaman ki gibi ilk olarak yapmamız gereken şey ilgili kütüphaneleri ve verisetimizi yüklemek olacaktır. 2007-2016 yılları arasında meydana gelen heyelanlarla ilgili bilgileri içeren bir veri kümesiyle çalışacağız. "
   ]
  },
  {
   "cell_type": "code",
   "execution_count": 7,
   "id": "5241e817",
   "metadata": {},
   "outputs": [],
   "source": [
    "# modüllerimizi import edelim.\n",
    "import pandas as pd\n",
    "import numpy as np\n",
    "import seaborn as sns\n",
    "import datetime\n",
    "\n",
    "# verisetimizi yükleyelim.\n",
    "heyelanlar = pd.read_csv(\"catalog.csv\")\n",
    "\n",
    "# tekrarlanabilirlik.\n",
    "np.random.seed(0)"
   ]
  },
  {
   "cell_type": "code",
   "execution_count": 8,
   "id": "d27b3817",
   "metadata": {},
   "outputs": [
    {
     "data": {
      "text/html": [
       "<div>\n",
       "<style scoped>\n",
       "    .dataframe tbody tr th:only-of-type {\n",
       "        vertical-align: middle;\n",
       "    }\n",
       "\n",
       "    .dataframe tbody tr th {\n",
       "        vertical-align: top;\n",
       "    }\n",
       "\n",
       "    .dataframe thead th {\n",
       "        text-align: right;\n",
       "    }\n",
       "</style>\n",
       "<table border=\"1\" class=\"dataframe\">\n",
       "  <thead>\n",
       "    <tr style=\"text-align: right;\">\n",
       "      <th></th>\n",
       "      <th>id</th>\n",
       "      <th>date</th>\n",
       "      <th>time</th>\n",
       "      <th>continent_code</th>\n",
       "      <th>country_name</th>\n",
       "      <th>country_code</th>\n",
       "      <th>state/province</th>\n",
       "      <th>population</th>\n",
       "      <th>city/town</th>\n",
       "      <th>distance</th>\n",
       "      <th>...</th>\n",
       "      <th>geolocation</th>\n",
       "      <th>hazard_type</th>\n",
       "      <th>landslide_type</th>\n",
       "      <th>landslide_size</th>\n",
       "      <th>trigger</th>\n",
       "      <th>storm_name</th>\n",
       "      <th>injuries</th>\n",
       "      <th>fatalities</th>\n",
       "      <th>source_name</th>\n",
       "      <th>source_link</th>\n",
       "    </tr>\n",
       "  </thead>\n",
       "  <tbody>\n",
       "    <tr>\n",
       "      <th>0</th>\n",
       "      <td>34</td>\n",
       "      <td>3/2/07</td>\n",
       "      <td>Night</td>\n",
       "      <td>NaN</td>\n",
       "      <td>United States</td>\n",
       "      <td>US</td>\n",
       "      <td>Virginia</td>\n",
       "      <td>16000</td>\n",
       "      <td>Cherry Hill</td>\n",
       "      <td>3.40765</td>\n",
       "      <td>...</td>\n",
       "      <td>(38.600900000000003, -77.268199999999993)</td>\n",
       "      <td>Landslide</td>\n",
       "      <td>Landslide</td>\n",
       "      <td>Small</td>\n",
       "      <td>Rain</td>\n",
       "      <td>NaN</td>\n",
       "      <td>NaN</td>\n",
       "      <td>NaN</td>\n",
       "      <td>NBC 4 news</td>\n",
       "      <td>http://www.nbc4.com/news/11186871/detail.html</td>\n",
       "    </tr>\n",
       "    <tr>\n",
       "      <th>1</th>\n",
       "      <td>42</td>\n",
       "      <td>3/22/07</td>\n",
       "      <td>NaN</td>\n",
       "      <td>NaN</td>\n",
       "      <td>United States</td>\n",
       "      <td>US</td>\n",
       "      <td>Ohio</td>\n",
       "      <td>17288</td>\n",
       "      <td>New Philadelphia</td>\n",
       "      <td>3.33522</td>\n",
       "      <td>...</td>\n",
       "      <td>(40.517499999999998, -81.430499999999995)</td>\n",
       "      <td>Landslide</td>\n",
       "      <td>Landslide</td>\n",
       "      <td>Small</td>\n",
       "      <td>Rain</td>\n",
       "      <td>NaN</td>\n",
       "      <td>NaN</td>\n",
       "      <td>NaN</td>\n",
       "      <td>Canton Rep.com</td>\n",
       "      <td>http://www.cantonrep.com/index.php?ID=345054&amp;C...</td>\n",
       "    </tr>\n",
       "    <tr>\n",
       "      <th>2</th>\n",
       "      <td>56</td>\n",
       "      <td>4/6/07</td>\n",
       "      <td>NaN</td>\n",
       "      <td>NaN</td>\n",
       "      <td>United States</td>\n",
       "      <td>US</td>\n",
       "      <td>Pennsylvania</td>\n",
       "      <td>15930</td>\n",
       "      <td>Wilkinsburg</td>\n",
       "      <td>2.91977</td>\n",
       "      <td>...</td>\n",
       "      <td>(40.4377, -79.915999999999997)</td>\n",
       "      <td>Landslide</td>\n",
       "      <td>Landslide</td>\n",
       "      <td>Small</td>\n",
       "      <td>Rain</td>\n",
       "      <td>NaN</td>\n",
       "      <td>NaN</td>\n",
       "      <td>NaN</td>\n",
       "      <td>The Pittsburgh Channel.com</td>\n",
       "      <td>https://web.archive.org/web/20080423132842/htt...</td>\n",
       "    </tr>\n",
       "    <tr>\n",
       "      <th>3</th>\n",
       "      <td>59</td>\n",
       "      <td>4/14/07</td>\n",
       "      <td>NaN</td>\n",
       "      <td>NaN</td>\n",
       "      <td>Canada</td>\n",
       "      <td>CA</td>\n",
       "      <td>Quebec</td>\n",
       "      <td>42786</td>\n",
       "      <td>Châteauguay</td>\n",
       "      <td>2.98682</td>\n",
       "      <td>...</td>\n",
       "      <td>(45.322600000000001, -73.777100000000004)</td>\n",
       "      <td>Landslide</td>\n",
       "      <td>Riverbank collapse</td>\n",
       "      <td>Small</td>\n",
       "      <td>Rain</td>\n",
       "      <td>NaN</td>\n",
       "      <td>NaN</td>\n",
       "      <td>NaN</td>\n",
       "      <td>Le Soleil</td>\n",
       "      <td>http://www.hebdos.net/lsc/edition162007/articl...</td>\n",
       "    </tr>\n",
       "    <tr>\n",
       "      <th>4</th>\n",
       "      <td>61</td>\n",
       "      <td>4/15/07</td>\n",
       "      <td>NaN</td>\n",
       "      <td>NaN</td>\n",
       "      <td>United States</td>\n",
       "      <td>US</td>\n",
       "      <td>Kentucky</td>\n",
       "      <td>6903</td>\n",
       "      <td>Pikeville</td>\n",
       "      <td>5.66542</td>\n",
       "      <td>...</td>\n",
       "      <td>(37.432499999999997, -82.493099999999998)</td>\n",
       "      <td>Landslide</td>\n",
       "      <td>Landslide</td>\n",
       "      <td>Small</td>\n",
       "      <td>Downpour</td>\n",
       "      <td>NaN</td>\n",
       "      <td>NaN</td>\n",
       "      <td>0.0</td>\n",
       "      <td>Matthew Crawford (KGS)</td>\n",
       "      <td>NaN</td>\n",
       "    </tr>\n",
       "  </tbody>\n",
       "</table>\n",
       "<p>5 rows × 23 columns</p>\n",
       "</div>"
      ],
      "text/plain": [
       "   id     date   time continent_code   country_name country_code  \\\n",
       "0  34   3/2/07  Night            NaN  United States           US   \n",
       "1  42  3/22/07    NaN            NaN  United States           US   \n",
       "2  56   4/6/07    NaN            NaN  United States           US   \n",
       "3  59  4/14/07    NaN            NaN         Canada           CA   \n",
       "4  61  4/15/07    NaN            NaN  United States           US   \n",
       "\n",
       "  state/province  population         city/town  distance  ...  \\\n",
       "0       Virginia       16000       Cherry Hill   3.40765  ...   \n",
       "1           Ohio       17288  New Philadelphia   3.33522  ...   \n",
       "2   Pennsylvania       15930       Wilkinsburg   2.91977  ...   \n",
       "3         Quebec       42786       Châteauguay   2.98682  ...   \n",
       "4       Kentucky        6903         Pikeville   5.66542  ...   \n",
       "\n",
       "                                 geolocation  hazard_type      landslide_type  \\\n",
       "0  (38.600900000000003, -77.268199999999993)    Landslide           Landslide   \n",
       "1  (40.517499999999998, -81.430499999999995)    Landslide           Landslide   \n",
       "2             (40.4377, -79.915999999999997)    Landslide           Landslide   \n",
       "3  (45.322600000000001, -73.777100000000004)    Landslide  Riverbank collapse   \n",
       "4  (37.432499999999997, -82.493099999999998)    Landslide           Landslide   \n",
       "\n",
       "  landslide_size   trigger storm_name injuries fatalities  \\\n",
       "0          Small      Rain        NaN      NaN        NaN   \n",
       "1          Small      Rain        NaN      NaN        NaN   \n",
       "2          Small      Rain        NaN      NaN        NaN   \n",
       "3          Small      Rain        NaN      NaN        NaN   \n",
       "4          Small  Downpour        NaN      NaN        0.0   \n",
       "\n",
       "                  source_name  \\\n",
       "0                  NBC 4 news   \n",
       "1              Canton Rep.com   \n",
       "2  The Pittsburgh Channel.com   \n",
       "3                   Le Soleil   \n",
       "4      Matthew Crawford (KGS)   \n",
       "\n",
       "                                         source_link  \n",
       "0      http://www.nbc4.com/news/11186871/detail.html  \n",
       "1  http://www.cantonrep.com/index.php?ID=345054&C...  \n",
       "2  https://web.archive.org/web/20080423132842/htt...  \n",
       "3  http://www.hebdos.net/lsc/edition162007/articl...  \n",
       "4                                                NaN  \n",
       "\n",
       "[5 rows x 23 columns]"
      ]
     },
     "execution_count": 8,
     "metadata": {},
     "output_type": "execute_result"
    }
   ],
   "source": [
    "heyelanlar.head()"
   ]
  },
  {
   "cell_type": "markdown",
   "id": "1aff4519",
   "metadata": {},
   "source": [
    "Bu örneğimizde 'date' sütunu ile çalışacağız."
   ]
  },
  {
   "cell_type": "code",
   "execution_count": 9,
   "id": "c49dcc2b",
   "metadata": {},
   "outputs": [
    {
     "name": "stdout",
     "output_type": "stream",
     "text": [
      "0     3/2/07\n",
      "1    3/22/07\n",
      "2     4/6/07\n",
      "3    4/14/07\n",
      "4    4/15/07\n",
      "Name: date, dtype: object\n"
     ]
    }
   ],
   "source": [
    "# date sütunun ilk 5 satırına bakalım\n",
    "print(heyelanlar['date'].head())"
   ]
  },
  {
   "cell_type": "markdown",
   "id": "fe834732",
   "metadata": {},
   "source": [
    "* Şimdi yukarıdaki çıktıyı yorumlayalım. Biz ilgili çıktının tarih olduğunu anlayabiliyoruz. Ancak bilgisayar bunu object olarak sınıflandırmış. Pandas tarih olarak datetime64 veri tipini bilir."
   ]
  },
  {
   "cell_type": "markdown",
   "id": "9c17793f",
   "metadata": {},
   "source": [
    "**Tarih sütunlarımızı datetime'a dönüştürme**"
   ]
  },
  {
   "cell_type": "code",
   "execution_count": 12,
   "id": "914df913",
   "metadata": {},
   "outputs": [],
   "source": [
    "# 1/17/07 \"% m /% d/% y\" \n",
    "# 17-1-2007 \"% d-% m-% Y\" \n",
    "# Heyelan veri kümesindeki \"tarih\" sütununun başına baktığımızda, \"ay / gün / iki basamaklı yıl\" biçiminde olduğunu görebiliriz.\n",
    "# Böylece tarihlerimizde ilk örnekle aynı sözdizimini kullanabiliriz.\n",
    "\n",
    "# düzenlenen tarihleri data_parsed adlı yeni sutüna yazalım.\n",
    "heyelanlar['date_parsed'] = pd.to_datetime(heyelanlar['date'], format=\"%m/%d/%y\")"
   ]
  },
  {
   "cell_type": "code",
   "execution_count": 14,
   "id": "9cefa155",
   "metadata": {},
   "outputs": [
    {
     "data": {
      "text/plain": [
       "0   2007-03-02\n",
       "1   2007-03-22\n",
       "2   2007-04-06\n",
       "3   2007-04-14\n",
       "4   2007-04-15\n",
       "Name: date_parsed, dtype: datetime64[ns]"
      ]
     },
     "execution_count": 14,
     "metadata": {},
     "output_type": "execute_result"
    }
   ],
   "source": [
    "# tamamdır şimdi ise data_parsed sütununu kontrol edelim.\n",
    "\n",
    "heyelanlar['date_parsed'].head()"
   ]
  },
  {
   "cell_type": "markdown",
   "id": "1aa9481f",
   "metadata": {},
   "source": [
    "Yukarıdaki çıktıya bakacak olursa artık datasetimizdeki tarihler istediğimiz formatta ve istediğimiz düzende. Şöyle bir soru sorabiliriz. Date kolonu içinde birbirinden farklı birden fazla tarih biçimi ile ilgili bir hata ile karşılaşırsak ne olur ? Çözüm aşağıda."
   ]
  },
  {
   "cell_type": "code",
   "execution_count": 16,
   "id": "ab91e2a0",
   "metadata": {},
   "outputs": [],
   "source": [
    "heyelanlar['date_parsed'] = pd.to_datetime(heyelanlar['date'], infer_datetime_format=True)"
   ]
  },
  {
   "cell_type": "code",
   "execution_count": 17,
   "id": "df4abe26",
   "metadata": {},
   "outputs": [
    {
     "data": {
      "text/plain": [
       "0     2.0\n",
       "1    22.0\n",
       "2     6.0\n",
       "3    14.0\n",
       "4    15.0\n",
       "Name: date_parsed, dtype: float64"
      ]
     },
     "execution_count": 17,
     "metadata": {},
     "output_type": "execute_result"
    }
   ],
   "source": [
    "# data_parsed sütunundan ayın gününü alma.\n",
    "ayın_gunu_heyelanlar = heyelanlar['date_parsed'].dt.day\n",
    "ayın_gunu_heyelanlar.head()"
   ]
  },
  {
   "cell_type": "markdown",
   "id": "9246f9f0",
   "metadata": {},
   "source": [
    "**Not:** Eğer orjinal data içerinden günleri çekmeye çalışşaydık, hata alacaktık.(AttributeError) Bunun nedeni ise **dt**'nin yalnızca datetime üzerinde işlem yapabilmesidir. Object türünü tanımaz."
   ]
  },
  {
   "cell_type": "markdown",
   "id": "e02c8378",
   "metadata": {},
   "source": [
    "Aldığımız günleri histogram grafiğinde kontrol ederek ayrımın doğruluğuna bakabiliriz. Sonuçların 1-31 arasında olmasını bekleriz."
   ]
  },
  {
   "cell_type": "code",
   "execution_count": 18,
   "id": "be69a293",
   "metadata": {},
   "outputs": [
    {
     "name": "stderr",
     "output_type": "stream",
     "text": [
      "C:\\ProgramData\\Anaconda3\\lib\\site-packages\\seaborn\\distributions.py:2619: FutureWarning: `distplot` is a deprecated function and will be removed in a future version. Please adapt your code to use either `displot` (a figure-level function with similar flexibility) or `histplot` (an axes-level function for histograms).\n",
      "  warnings.warn(msg, FutureWarning)\n"
     ]
    },
    {
     "data": {
      "text/plain": [
       "<AxesSubplot:xlabel='date_parsed'>"
      ]
     },
     "execution_count": 18,
     "metadata": {},
     "output_type": "execute_result"
    },
    {
     "data": {
      "image/png": "[encoded data removed]",
      "text/plain": [
       "<Figure size 432x288 with 1 Axes>"
      ]
     },
     "metadata": {
      "needs_background": "light"
     },
     "output_type": "display_data"
    }
   ],
   "source": [
    "# date kolonu içinde NaN varsa silelim.\n",
    "ayın_gunu_heyelanlar = ayın_gunu_heyelanlar.dropna()\n",
    "\n",
    "# ay içerisindeki günleri çizdirelim.\n",
    "sns.distplot(ayın_gunu_heyelanlar, kde=False, bins=31)"
   ]
  },
  {
   "cell_type": "markdown",
   "id": "8e4549b4",
   "metadata": {},
   "source": [
    "**4-) Character Encodings - Karakter Kodlama**"
   ]
  },
  {
   "cell_type": "code",
   "execution_count": 19,
   "id": "539e14bd",
   "metadata": {},
   "outputs": [],
   "source": [
    "# kütüphanelerin yüklenmesi.\n",
    "import pandas as pd\n",
    "import numpy as np\n",
    "# karakter kodlama modülü.\n",
    "import chardet\n",
    "# tekrarlanabilirlik.\n",
    "np.random.seed(0)"
   ]
  },
  {
   "cell_type": "markdown",
   "id": "4aa63c66",
   "metadata": {},
   "source": [
    "**Karakter kodlamaları**, ham ikili bayt dizelerinden (şuna benzer: 0110100001101001), insan tarafından okunabilir metni oluşturan karakterlere (\"merhaba\" gibi) eşleme için belirli kurallar kümeleridir."
   ]
  },
  {
   "cell_type": "markdown",
   "id": "e0f3fd89",
   "metadata": {},
   "source": [
    "Karakter kodlama uyuşmazlıkları bugün eskisinden daha az yaygındır, ancak kesinlikle hala bir sorundur. Çok sayıda farklı karakter kodlaması vardır, ancak bilmeniz gereken en önemli şey **UTF-8**'dir."
   ]
  },
  {
   "cell_type": "markdown",
   "id": "8fd6cd59",
   "metadata": {},
   "source": [
    "UTF-8 standart metin kodlamasıdır. Tüm Python kodu UTF-8'de bulunur. Tüm metnimizi mümkün olan en kısa sürede UTF-8'e dönüştürmek istiyoruz.Karşılaşacağınız dosyaların çoğu muhtemelen UTF-8 ile kodlanacaktır. Python'un varsayılan olarak beklediği şey budur, bu nedenle çoğu zaman sorunlarla karşılaşmazsınız. Ancak bazen sorunlar meydana gelebilir. ( UnicodeDecodeError )"
   ]
  },
  {
   "cell_type": "markdown",
   "id": "56761fb7",
   "metadata": {},
   "source": [
    "**UTF-8 kodlaması ile dosyalarınızı kaydetme**"
   ]
  },
  {
   "cell_type": "markdown",
   "id": "f6da9d2a",
   "metadata": {},
   "source": [
    "UTF-8 Python'da standart kodlama olduğundan, bir dosyayı kaydettiğinizde varsayılan olarak UTF-8 olarak kaydedilecektir."
   ]
  },
  {
   "cell_type": "markdown",
   "id": "cd53b71b",
   "metadata": {},
   "source": [
    "**5-) Inconsistent Data Entry - Tutarsız Veri Girişi**"
   ]
  },
  {
   "cell_type": "markdown",
   "id": "805aa2f3",
   "metadata": {},
   "source": [
    "* Verimizdeki yazım hatalarını düzelteceğiz.\n",
    "* Tutarsız metin girişlerini nasıl temizleyeceğimize bakacağız."
   ]
  },
  {
   "cell_type": "code",
   "execution_count": 3,
   "id": "ca48c6d1",
   "metadata": {},
   "outputs": [],
   "source": [
    "# modüllerin yüklenmesi.\n",
    "import pandas as pd\n",
    "import numpy as np\n",
    "import fuzzywuzzy\n",
    "from fuzzywuzzy import process\n",
    "import chardet\n",
    "\n",
    "# verisetimizin yüklenmesi.\n",
    "profesör = pd.read_csv(\"pakistan_intellectual_capital.csv\")\n",
    "\n",
    "# tekrarlanabilirlik.\n",
    "np.random.seed(0)"
   ]
  },
  {
   "cell_type": "code",
   "execution_count": 4,
   "id": "742a2332",
   "metadata": {},
   "outputs": [
    {
     "data": {
      "text/html": [
       "<div>\n",
       "<style scoped>\n",
       "    .dataframe tbody tr th:only-of-type {\n",
       "        vertical-align: middle;\n",
       "    }\n",
       "\n",
       "    .dataframe tbody tr th {\n",
       "        vertical-align: top;\n",
       "    }\n",
       "\n",
       "    .dataframe thead th {\n",
       "        text-align: right;\n",
       "    }\n",
       "</style>\n",
       "<table border=\"1\" class=\"dataframe\">\n",
       "  <thead>\n",
       "    <tr style=\"text-align: right;\">\n",
       "      <th></th>\n",
       "      <th>Unnamed: 0</th>\n",
       "      <th>S#</th>\n",
       "      <th>Teacher Name</th>\n",
       "      <th>University Currently Teaching</th>\n",
       "      <th>Department</th>\n",
       "      <th>Province University Located</th>\n",
       "      <th>Designation</th>\n",
       "      <th>Terminal Degree</th>\n",
       "      <th>Graduated from</th>\n",
       "      <th>Country</th>\n",
       "      <th>Year</th>\n",
       "      <th>Area of Specialization/Research Interests</th>\n",
       "      <th>Other Information</th>\n",
       "    </tr>\n",
       "  </thead>\n",
       "  <tbody>\n",
       "    <tr>\n",
       "      <th>0</th>\n",
       "      <td>2</td>\n",
       "      <td>3</td>\n",
       "      <td>Dr. Abdul Basit</td>\n",
       "      <td>University of Balochistan</td>\n",
       "      <td>Computer Science &amp; IT</td>\n",
       "      <td>Balochistan</td>\n",
       "      <td>Assistant Professor</td>\n",
       "      <td>PhD</td>\n",
       "      <td>Asian Institute of Technology</td>\n",
       "      <td>Thailand</td>\n",
       "      <td>NaN</td>\n",
       "      <td>Software Engineering &amp; DBMS</td>\n",
       "      <td>NaN</td>\n",
       "    </tr>\n",
       "    <tr>\n",
       "      <th>1</th>\n",
       "      <td>4</td>\n",
       "      <td>5</td>\n",
       "      <td>Dr. Waheed Noor</td>\n",
       "      <td>University of Balochistan</td>\n",
       "      <td>Computer Science &amp; IT</td>\n",
       "      <td>Balochistan</td>\n",
       "      <td>Assistant Professor</td>\n",
       "      <td>PhD</td>\n",
       "      <td>Asian Institute of Technology</td>\n",
       "      <td>Thailand</td>\n",
       "      <td>NaN</td>\n",
       "      <td>DBMS</td>\n",
       "      <td>NaN</td>\n",
       "    </tr>\n",
       "    <tr>\n",
       "      <th>2</th>\n",
       "      <td>5</td>\n",
       "      <td>6</td>\n",
       "      <td>Dr. Junaid Baber</td>\n",
       "      <td>University of Balochistan</td>\n",
       "      <td>Computer Science &amp; IT</td>\n",
       "      <td>Balochistan</td>\n",
       "      <td>Assistant Professor</td>\n",
       "      <td>PhD</td>\n",
       "      <td>Asian Institute of Technology</td>\n",
       "      <td>Thailand</td>\n",
       "      <td>NaN</td>\n",
       "      <td>Information processing, Multimedia mining</td>\n",
       "      <td>NaN</td>\n",
       "    </tr>\n",
       "    <tr>\n",
       "      <th>3</th>\n",
       "      <td>6</td>\n",
       "      <td>7</td>\n",
       "      <td>Dr. Maheen Bakhtyar</td>\n",
       "      <td>University of Balochistan</td>\n",
       "      <td>Computer Science &amp; IT</td>\n",
       "      <td>Balochistan</td>\n",
       "      <td>Assistant Professor</td>\n",
       "      <td>PhD</td>\n",
       "      <td>Asian Institute of Technology</td>\n",
       "      <td>Thailand</td>\n",
       "      <td>NaN</td>\n",
       "      <td>NLP, Information Retrieval, Question Answering...</td>\n",
       "      <td>NaN</td>\n",
       "    </tr>\n",
       "    <tr>\n",
       "      <th>4</th>\n",
       "      <td>24</td>\n",
       "      <td>25</td>\n",
       "      <td>Samina Azim</td>\n",
       "      <td>Sardar Bahadur Khan Women's University</td>\n",
       "      <td>Computer Science</td>\n",
       "      <td>Balochistan</td>\n",
       "      <td>Lecturer</td>\n",
       "      <td>BS</td>\n",
       "      <td>Balochistan University of Information Technolo...</td>\n",
       "      <td>Pakistan</td>\n",
       "      <td>2005.0</td>\n",
       "      <td>VLSI Electronics DLD Database</td>\n",
       "      <td>NaN</td>\n",
       "    </tr>\n",
       "  </tbody>\n",
       "</table>\n",
       "</div>"
      ],
      "text/plain": [
       "   Unnamed: 0  S#         Teacher Name  \\\n",
       "0           2   3      Dr. Abdul Basit   \n",
       "1           4   5      Dr. Waheed Noor   \n",
       "2           5   6     Dr. Junaid Baber   \n",
       "3           6   7  Dr. Maheen Bakhtyar   \n",
       "4          24  25          Samina Azim   \n",
       "\n",
       "            University Currently Teaching             Department  \\\n",
       "0               University of Balochistan  Computer Science & IT   \n",
       "1               University of Balochistan  Computer Science & IT   \n",
       "2               University of Balochistan  Computer Science & IT   \n",
       "3               University of Balochistan  Computer Science & IT   \n",
       "4  Sardar Bahadur Khan Women's University       Computer Science   \n",
       "\n",
       "  Province University Located          Designation Terminal Degree  \\\n",
       "0                 Balochistan  Assistant Professor             PhD   \n",
       "1                 Balochistan  Assistant Professor             PhD   \n",
       "2                 Balochistan  Assistant Professor             PhD   \n",
       "3                 Balochistan  Assistant Professor             PhD   \n",
       "4                 Balochistan             Lecturer              BS   \n",
       "\n",
       "                                      Graduated from   Country    Year  \\\n",
       "0                      Asian Institute of Technology  Thailand     NaN   \n",
       "1                      Asian Institute of Technology  Thailand     NaN   \n",
       "2                      Asian Institute of Technology  Thailand     NaN   \n",
       "3                      Asian Institute of Technology  Thailand     NaN   \n",
       "4  Balochistan University of Information Technolo...  Pakistan  2005.0   \n",
       "\n",
       "           Area of Specialization/Research Interests Other Information  \n",
       "0                        Software Engineering & DBMS               NaN  \n",
       "1                                               DBMS               NaN  \n",
       "2          Information processing, Multimedia mining               NaN  \n",
       "3  NLP, Information Retrieval, Question Answering...               NaN  \n",
       "4                      VLSI Electronics DLD Database               NaN  "
      ]
     },
     "execution_count": 4,
     "metadata": {},
     "output_type": "execute_result"
    }
   ],
   "source": [
    "profesör.head()"
   ]
  },
  {
   "cell_type": "markdown",
   "id": "46a92c77",
   "metadata": {},
   "source": [
    "Ülke sütuni ile çalışacağız."
   ]
  },
  {
   "cell_type": "code",
   "execution_count": 7,
   "id": "e201902c",
   "metadata": {},
   "outputs": [
    {
     "data": {
      "text/plain": [
       "array([' Germany', ' New Zealand', ' Sweden', ' USA', 'Australia',\n",
       "       'Austria', 'Canada', 'China', 'Finland', 'France', 'Greece',\n",
       "       'HongKong', 'Ireland', 'Italy', 'Japan', 'Macau', 'Malaysia',\n",
       "       'Mauritius', 'Netherland', 'New Zealand', 'Norway', 'Pakistan',\n",
       "       'Portugal', 'Russian Federation', 'Saudi Arabia', 'Scotland',\n",
       "       'Singapore', 'South Korea', 'SouthKorea', 'Spain', 'Sweden',\n",
       "       'Thailand', 'Turkey', 'UK', 'USA', 'USofA', 'Urbana', 'germany'],\n",
       "      dtype=object)"
      ]
     },
     "execution_count": 7,
     "metadata": {},
     "output_type": "execute_result"
    }
   ],
   "source": [
    "# 'ülke' sütunundaki tüm benzersiz değerleri alalım.\n",
    "countries = profesör['Country'].unique()\n",
    "\n",
    "# alfabetik olarak sıralayalım.\n",
    "countries.sort()\n",
    "countries"
   ]
  },
  {
   "cell_type": "markdown",
   "id": "c6df2f08",
   "metadata": {},
   "source": [
    "* Germany yerine germany verisi\n",
    "* Yapacağım ilk şey, her şeyi küçük harf yapmak (istersem sonunda değiştirebilirim) ve hücrelerin başında ve sonundaki boşlukları kaldırmaktır. Büyük harf kullanımı ve sondaki boşluklardaki tutarsızlıklar metin verilerinde çok yaygındır ve bunu yaparak metin veri girişi tutarsızlıklarınızın % 80'ini düzeltebiliriz."
   ]
  },
  {
   "cell_type": "code",
   "execution_count": 8,
   "id": "b5f21eeb",
   "metadata": {},
   "outputs": [],
   "source": [
    "# küçük harfe dönüştürelim.\n",
    "profesör['Country'] = professors['Country'].str.lower()\n",
    "# boşlukları silelim.\n",
    "profesör['Country'] = professors['Country'].str.strip()"
   ]
  },
  {
   "cell_type": "code",
   "execution_count": 9,
   "id": "61868826",
   "metadata": {},
   "outputs": [
    {
     "data": {
      "text/plain": [
       "0    thailand\n",
       "1    thailand\n",
       "2    thailand\n",
       "3    thailand\n",
       "4    pakistan\n",
       "Name: Country, dtype: object"
      ]
     },
     "execution_count": 9,
     "metadata": {},
     "output_type": "execute_result"
    }
   ],
   "source": [
    "profesör['Country'].head()"
   ]
  },
  {
   "cell_type": "markdown",
   "id": "832d74b5",
   "metadata": {},
   "source": [
    "**Tutarsız veri girişini düzeltmek için bulanık eşleştirmeyi kullanma (fuzzy matching )**"
   ]
  },
  {
   "cell_type": "code",
   "execution_count": 10,
   "id": "21a94946",
   "metadata": {},
   "outputs": [
    {
     "data": {
      "text/plain": [
       "array(['australia', 'austria', 'canada', 'china', 'finland', 'france',\n",
       "       'germany', 'greece', 'hongkong', 'ireland', 'italy', 'japan',\n",
       "       'macau', 'malaysia', 'mauritius', 'netherland', 'new zealand',\n",
       "       'norway', 'pakistan', 'portugal', 'russian federation',\n",
       "       'saudi arabia', 'scotland', 'singapore', 'south korea',\n",
       "       'southkorea', 'spain', 'sweden', 'thailand', 'turkey', 'uk',\n",
       "       'urbana', 'usa', 'usofa'], dtype=object)"
      ]
     },
     "execution_count": 10,
     "metadata": {},
     "output_type": "execute_result"
    }
   ],
   "source": [
    "# benzersiz değerleri alalım.\n",
    "countries = professors['Country'].unique()\n",
    "\n",
    "# sıralayalım.\n",
    "countries.sort()\n",
    "countries"
   ]
  },
  {
   "cell_type": "markdown",
   "id": "3d05eea4",
   "metadata": {},
   "source": [
    "Verimizde hala bir tutarsızlık var . southkorea ile south korea aynı olmalı."
   ]
  },
  {
   "cell_type": "markdown",
   "id": "edc62ca5",
   "metadata": {},
   "source": [
    "Hangi dizelerin birbirine en yakın olduğunu belirlemek için  **fuzzy wuzzy** ( bulanık eşleme: Hedef dizeye çok benzeyen metin dizelerini otomatik olarak bulma işlemi, her zaman bulanık eşleşmeye % 100 güvenemezsiniz, ancak genellikle size en azından biraz zaman kazandırır.) paketini kullanacağız."
   ]
  },
  {
   "cell_type": "code",
   "execution_count": 13,
   "id": "e4940d7d",
   "metadata": {},
   "outputs": [
    {
     "data": {
      "text/plain": [
       "[('south korea', 100),\n",
       " ('southkorea', 48),\n",
       " ('saudi arabia', 43),\n",
       " ('norway', 35),\n",
       " ('ireland', 33),\n",
       " ('portugal', 32),\n",
       " ('singapore', 30),\n",
       " ('netherland', 29),\n",
       " ('macau', 25),\n",
       " ('usofa', 25)]"
      ]
     },
     "execution_count": 13,
     "metadata": {},
     "output_type": "execute_result"
    }
   ],
   "source": [
    "# \"güney kore\" ye en yakın ilk 10 \n",
    "matches = fuzzywuzzy.process.extract(\"south korea\", countries, limit=10, scorer=fuzzywuzzy.fuzz.token_sort_ratio)\n",
    "matches"
   ]
  },
  {
   "cell_type": "code",
   "execution_count": 14,
   "id": "a24eef19",
   "metadata": {},
   "outputs": [],
   "source": [
    "# Oranı 47 ve üstü olan tüm satırları güney kore ile değiştireceğiz.\n",
    "\n",
    "def sutundaki_eslemeleri_degistir(df, column, string_to_match, min_ratio = 47):\n",
    "    # benzersiz dizelerin listesi.\n",
    "    strings = df[column].unique()\n",
    "    \n",
    "    # verilen değere en yakın 10 değeri al.\n",
    "    matches = fuzzywuzzy.process.extract(string_to_match, strings, \n",
    "                                         limit=10, scorer=fuzzywuzzy.fuzz.token_sort_ratio)\n",
    "\n",
    "    # sadece 90 üzeri eşleşmeleri al.\n",
    "    close_matches = [matches[0] for matches in matches if matches[1] >= min_ratio]\n",
    "\n",
    "    # veri çerçevemizdeki tüm yakın eşleşmelerin satırlarını alın.\n",
    "    rows_with_matches = df[column].isin(close_matches)\n",
    "\n",
    "    # tüm satırları giriş eşleşmeleriyle yakın eşleşmelerle değiştirin.\n",
    "    df.loc[rows_with_matches, column] = string_to_match\n",
    "    \n",
    "    print(\"İşlemleri başarı ile tamamladım!\")"
   ]
  },
  {
   "cell_type": "code",
   "execution_count": 15,
   "id": "7a299861",
   "metadata": {},
   "outputs": [
    {
     "name": "stdout",
     "output_type": "stream",
     "text": [
      "İşlemleri başarı ile tamamladım!\n"
     ]
    }
   ],
   "source": [
    "# sutundaki_eslemeleri_degistir fonksiyonumuzu kullanalım.\n",
    "\n",
    "sutundaki_eslemeleri_degistir(df=profesör, column='Country', string_to_match=\"south korea\")"
   ]
  },
  {
   "cell_type": "markdown",
   "id": "bc9727a5",
   "metadata": {},
   "source": [
    "*Ve şimdi \"Ülke\" sütunumuzdaki benzersiz değerleri tekrar kontrol edelim ve \"güney Kore\" yi doğru bir şekilde düzenlediğimizden emin olalım.*"
   ]
  },
  {
   "cell_type": "code",
   "execution_count": 16,
   "id": "ce994968",
   "metadata": {},
   "outputs": [
    {
     "data": {
      "text/plain": [
       "array(['australia', 'austria', 'canada', 'china', 'finland', 'france',\n",
       "       'germany', 'greece', 'hongkong', 'ireland', 'italy', 'japan',\n",
       "       'macau', 'malaysia', 'mauritius', 'netherland', 'new zealand',\n",
       "       'norway', 'pakistan', 'portugal', 'russian federation',\n",
       "       'saudi arabia', 'scotland', 'singapore', 'south korea', 'spain',\n",
       "       'sweden', 'thailand', 'turkey', 'uk', 'urbana', 'usa', 'usofa'],\n",
       "      dtype=object)"
      ]
     },
     "execution_count": 16,
     "metadata": {},
     "output_type": "execute_result"
    }
   ],
   "source": [
    "# benzersiz değerleri al.\n",
    "countries = profesör['Country'].unique()\n",
    "\n",
    "# sıralama yap.\n",
    "countries.sort()\n",
    "countries"
   ]
  },
  {
   "cell_type": "code",
   "execution_count": null,
   "id": "81850016",
   "metadata": {},
   "outputs": [],
   "source": []
  }
 ],
 "metadata": {
  "kernelspec": {
   "display_name": "Python 3 (ipykernel)",
   "language": "python",
   "name": "python3"
  },
  "language_info": {
   "codemirror_mode": {
    "name": "ipython",
    "version": 3
   },
   "file_extension": ".py",
   "mimetype": "text/x-python",
   "name": "python",
   "nbconvert_exporter": "python",
   "pygments_lexer": "ipython3",
   "version": "3.9.7"
  }
 },
 "nbformat": 4,
 "nbformat_minor": 5
}
